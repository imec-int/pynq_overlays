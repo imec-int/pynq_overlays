{
 "cells": [
  {
   "cell_type": "markdown",
   "metadata": {},
   "source": [
    "# Pulsify - carpatchiot tech demo\n",
    "\n",
    "## Introduction\n",
    "\n",
    "In this notebook we program the dev board of pulsify: carpatchiot tech demo"
   ]
  },
  {
   "cell_type": "code",
   "execution_count": 1,
   "metadata": {},
   "outputs": [
    {
     "data": {
      "application/javascript": [
       "\n",
       "require(['notebook/js/codecell'], function(codecell) {\n",
       "  codecell.CodeCell.options_default.highlight_modes[\n",
       "      'magic_text/x-csrc'] = {'reg':[/^%%microblaze/]};\n",
       "  Jupyter.notebook.events.one('kernel_ready.Kernel', function(){\n",
       "      Jupyter.notebook.get_cells().map(function(cell){\n",
       "          if (cell.cell_type == 'code'){ cell.auto_highlight(); } }) ;\n",
       "  });\n",
       "});\n"
      ]
     },
     "metadata": {},
     "output_type": "display_data"
    }
   ],
   "source": [
    "#import of all libraries\n",
    "import threading\n",
    "import logging\n",
    "import asyncio\n",
    "import time\n",
    "import numpy as np\n",
    "from pynq import Overlay\n",
    "#from pynq.overlays.ip import *\n",
    "#from pynq.overlays.ip.STHV1600 import sthv1600_regmap as reg\n",
    "from libs import *\n",
    "import pynq.interrupt"
   ]
  },
  {
   "cell_type": "markdown",
   "metadata": {},
   "source": [
    "we import the bitstream as an overlay"
   ]
  },
  {
   "cell_type": "code",
   "execution_count": 2,
   "metadata": {},
   "outputs": [],
   "source": [
    "#ol = Overlay('/home/xilinx/pynq/overlays/MEMS_ONLY/base.bit')\n",
    "ol = Overlay('/usr/local/lib/python3.6/dist-packages/car_tech_demo/bitstream/car_tech_demo.bit')\n",
    "# ol?"
   ]
  }
 ],
 "metadata": {
  "kernelspec": {
   "display_name": "Python 3",
   "language": "python",
   "name": "python3"
  },
  "language_info": {
   "codemirror_mode": {
    "name": "ipython",
    "version": 3
   },
   "file_extension": ".py",
   "mimetype": "text/x-python",
   "name": "python",
   "nbconvert_exporter": "python",
   "pygments_lexer": "ipython3",
   "version": "3.6.5"
  }
 },
 "nbformat": 4,
 "nbformat_minor": 2
}
