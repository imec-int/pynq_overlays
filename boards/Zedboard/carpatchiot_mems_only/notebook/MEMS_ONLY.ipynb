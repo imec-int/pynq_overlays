{
 "cells": [
  {
   "cell_type": "markdown",
   "metadata": {},
   "source": [
    "# MEMS-ONLY\n",
    "\n",
    "## Introduction\n",
    "\n",
    "In this notebook we program the MEMS-ONLY PCB, which has 2 STHV1600 ICs for pulsing"
   ]
  },
  {
   "cell_type": "code",
   "execution_count": 1,
   "metadata": {},
   "outputs": [
    {
     "data": {
      "application/javascript": [
       "\n",
       "require(['notebook/js/codecell'], function(codecell) {\n",
       "  codecell.CodeCell.options_default.highlight_modes[\n",
       "      'magic_text/x-csrc'] = {'reg':[/^%%microblaze/]};\n",
       "  Jupyter.notebook.events.one('kernel_ready.Kernel', function(){\n",
       "      Jupyter.notebook.get_cells().map(function(cell){\n",
       "          if (cell.cell_type == 'code'){ cell.auto_highlight(); } }) ;\n",
       "  });\n",
       "});\n"
      ]
     },
     "metadata": {},
     "output_type": "display_data"
    }
   ],
   "source": [
    "#import of all libraries\n",
    "import threading\n",
    "import logging\n",
    "import asyncio\n",
    "import time\n",
    "import numpy as np\n",
    "from pynq import Overlay\n",
    "from pynq.overlays.ip import *\n",
    "from pynq.overlays.ip.STHV1600 import sthv1600_regmap as reg\n",
    "import pynq.interrupt"
   ]
  },
  {
   "cell_type": "markdown",
   "metadata": {},
   "source": [
    "we import the bitstream as an overlay"
   ]
  },
  {
   "cell_type": "code",
   "execution_count": 2,
   "metadata": {},
   "outputs": [],
   "source": [
    "#ol = Overlay('/home/xilinx/pynq/overlays/MEMS_ONLY/base.bit')\n",
    "ol = Overlay('/usr/local/lib/python3.6/dist-packages/carpatchiot_mems_only/bitstream/mems_only.bit')\n",
    "# ol?"
   ]
  },
  {
   "cell_type": "code",
   "execution_count": 3,
   "metadata": {},
   "outputs": [
    {
     "name": "stdout",
     "output_type": "stream",
     "text": [
      "150.0\n"
     ]
    }
   ],
   "source": [
    "#sthv is the main point of contact\n",
    "leds = ol.gpio_leds\n",
    "switches = ol.gpio_switches\n",
    "buttons = ol.gpio_buttons\n",
    "axi_intr_c = ol.axi_intc_0\n",
    "BRAM = ol.axi_bram_ctrl_0\n",
    "sthv = ol.STHV1600_0\n",
    "prg = ol.STHV1600_0.S00_AXI_PRG\n",
    "trg = ol.STHV1600_0.S01_AXI_TRIG\n",
    "intr = ol.STHV1600_0.S_AXI_INTR\n",
    "resetn = ol.axi_gpio_0\n",
    "# sthv?\n",
    "sthv.connect_BRAM(BRAM)\n",
    "print(pynq.ps.Clocks.fclk0_mhz)\n",
    "rc = pynq.overlays.ip.STHV1600.mems_only_channels.ROW_COLUMN()\n",
    "read_channels = rc.channels_read()\n",
    "drive_channels = rc.channels_drive()"
   ]
  },
  {
   "cell_type": "markdown",
   "metadata": {},
   "source": [
    "# Zedboard peripherals\n",
    "\n",
    "a small use-case of the pushbuttons, switches & LEDs as feedback mech"
   ]
  },
  {
   "cell_type": "code",
   "execution_count": 16,
   "metadata": {},
   "outputs": [
    {
     "name": "stderr",
     "output_type": "stream",
     "text": [
      "09:24:47: started thread\n"
     ]
    }
   ],
   "source": [
    "outputMask = 0x0\n",
    "tristateRegisterOffset = 0x4\n",
    "leds.write(tristateRegisterOffset, outputMask)\n",
    "\n",
    "def button_thread(name):\n",
    "    format = \"%(asctime)s: %(message)s\"\n",
    "    logging.basicConfig(format=format, level=logging.INFO, datefmt=\"%H:%M:%S\")\n",
    "    logging.info(\"started thread\")\n",
    "    while(not switches.read()):\n",
    "        leds.write(0x0, buttons.read())\n",
    "x = threading.Thread(target=button_thread, args=(1,))\n",
    "x.start()"
   ]
  },
  {
   "cell_type": "code",
   "execution_count": 15,
   "metadata": {},
   "outputs": [],
   "source": [
    "outputMask = 0x0\n",
    "tristateRegisterOffset = 0x4\n",
    "resetn.write(tristateRegisterOffset, outputMask)\n",
    "resetn.write(0x0,0x0)\n",
    "time.sleep(1)\n",
    "resetn.write(0x0,0x1)"
   ]
  },
  {
   "cell_type": "markdown",
   "metadata": {},
   "source": [
    "## interrupts"
   ]
  },
  {
   "cell_type": "code",
   "execution_count": 8,
   "metadata": {},
   "outputs": [
    {
     "name": "stdout",
     "output_type": "stream",
     "text": [
      "{'system_ila_0/probe5': {'controller': 'axi_intc_0', 'index': 0, 'fullpath': 'system_ila_0/probe5'}, 'STHV1600_0/irq': {'controller': 'axi_intc_0', 'index': 0, 'fullpath': 'STHV1600_0/irq'}, 'xlconcat_0/In0': {'controller': 'axi_intc_0', 'index': 0, 'fullpath': 'xlconcat_0/In0'}, 'xlconcat_0/In1': {'controller': 'axi_intc_0', 'index': 1, 'fullpath': 'xlconcat_0/In1'}, 'axi_gpio_1/ip2intc_irpt': {'controller': 'axi_intc_0', 'index': 1, 'fullpath': 'axi_gpio_1/ip2intc_irpt'}, 'axi_gpio_2/ip2intc_irpt': {'controller': 'axi_intc_0', 'index': 2, 'fullpath': 'axi_gpio_2/ip2intc_irpt'}, 'xlconcat_0/In2': {'controller': 'axi_intc_0', 'index': 2, 'fullpath': 'xlconcat_0/In2'}, 'gpio_buttons/ip2intc_irpt': {'controller': 'axi_intc_0', 'index': 3, 'fullpath': 'gpio_buttons/ip2intc_irpt'}, 'xlconcat_0/In3': {'controller': 'axi_intc_0', 'index': 3, 'fullpath': 'xlconcat_0/In3'}, 'xlconcat_0/In4': {'controller': 'axi_intc_0', 'index': 4, 'fullpath': 'xlconcat_0/In4'}, 'gpio_switches/ip2intc_irpt': {'controller': 'axi_intc_0', 'index': 4, 'fullpath': 'gpio_switches/ip2intc_irpt'}}\n"
     ]
    }
   ],
   "source": [
    "print(ol.interrupt_pins)"
   ]
  },
  {
   "cell_type": "code",
   "execution_count": 9,
   "metadata": {},
   "outputs": [],
   "source": [
    "axi_intr = pynq.interrupt.Interrupt(pinname='STHV1600_0/irq')\n",
    "# event = asyncio.Event()\n",
    "async def interrupt_test():\n",
    "    print(\"in begin interrupt test\")\n",
    "    await axi_intr.wait()\n",
    "    axi_intr.event.clear()\n",
    "    print(\"STHV1600 interrupt triggered!\")\n",
    "\n",
    "async def interrupt_thread():\n",
    "    print(\"start thread\")\n",
    "#     while(not axi_intr_c.read()):\n",
    "#         wait_var=0\n",
    "    await axi_intr.wait()\n",
    "    axi_intr.event.clear()\n",
    "    result_available.set()\n",
    "    wait_var=1\n",
    "    \n",
    "def axi_interrupt(name, loop):\n",
    "    print(\"start interrupt loop\", name)\n",
    "    print(pynq.interrupt.get_uio_irq(irq=61))        \n",
    "    print(pynq.interrupt.get_uio_device(dev_name=\"fabric\"))\n",
    "\n",
    "# loop = asyncio.get_event_loop()\n",
    "# task = asyncio.run_coroutine_threadsafe(interrupt_test(), loop)\n",
    "# print(task.result)\n",
    "# global wait_var\n",
    "# wait_var=0\n",
    "# result_available= threading.Event()\n",
    "# x = threading.Thread(target=interrupt_thread)\n",
    "# x.start()  \n",
    "# # loop.\n",
    "\n",
    "def STHV_RAMREAD_INT():\n",
    "    print(\"beginning reading\")\n",
    "    prg.connect_BRAM(BRAM)\n",
    "    prg.read_RAM(2,  reg.DEVID0, reg.config_1)\n",
    "    while(not result_available.wait()):\n",
    "        time.sleep(0.1)\n",
    "    print(\"done\")\n",
    "#     axi_interrupt()\n",
    "# STHV_RAMREAD_INT()\n",
    "# axi_interrupt()"
   ]
  },
  {
   "cell_type": "markdown",
   "metadata": {},
   "source": [
    "## Programming\n",
    "\n",
    "ways of programming:\n",
    "\n",
    "1. least preferred way: (access via prg is more error prone, as you can easilier program the wrong values at the wrong index, as in, use the program trigger function for the PRG AXI port)\n",
    "\n",
    "`prg.program_RAM(0X1,0x0,0X1009,[0X3])`\n",
    "\n",
    "2. preffered way:\n",
    "\n",
    "`sthv.STHV_PRG_RAM(amount=0x1,devId=0,address= 0x1009,data= [0x3])`\n",
    "\n",
    "`sthv.STHV_TRIG(tx_rxtime=0x140, idle_time=0x200, cycle_amount=4)`"
   ]
  },
  {
   "cell_type": "code",
   "execution_count": 10,
   "metadata": {},
   "outputs": [],
   "source": [
    "sthv.initRAM(devId=reg.DEVID0)\n",
    "sthv.initRAM(devId=reg.DEVID1)"
   ]
  },
  {
   "cell_type": "code",
   "execution_count": 17,
   "metadata": {},
   "outputs": [
    {
     "name": "stdout",
     "output_type": "stream",
     "text": [
      "time_reg_ticks [25, 20, 0, 0]\n",
      "start delay: [1, 22, 3, 14, 25]\n",
      "amount of pulse regs: 3\n",
      "--> pulse shape registers per channel:  0x4996\n",
      "--> pulse shape registers per channel:  0x14f\n",
      "--> pulse shape registers per channel:  0xe\n",
      "-->reading from reg 0x80440\n",
      "read 0x 0x2\n",
      "start delay: [1, 22, 3, 14, 25]\n",
      "amount of pulse regs: 3\n",
      "--> pulse shape registers per channel:  0x4996\n",
      "--> pulse shape registers per channel:  0x14f\n",
      "--> pulse shape registers per channel:  0xe\n",
      "-->reading from reg 0x80444\n",
      "read 0x 0x2\n",
      "MEMS-ONLY programming\n",
      "programming STHV1600 trigger in ticks mode 160\n"
     ]
    }
   ],
   "source": [
    "devIdList = [reg.DEVID0, reg.DEVID1]\n",
    "sthv.example_case(devIdList=devIdList, topology='MEMS-ONLY', cycle_amount=1000000)"
   ]
  },
  {
   "cell_type": "code",
   "execution_count": 18,
   "metadata": {},
   "outputs": [
    {
     "name": "stdout",
     "output_type": "stream",
     "text": [
      "-->reading from reg 0x40\n",
      "0x4996\n"
     ]
    }
   ],
   "source": [
    "result = sthv.STHV_RAM_READ(amount=1,address=reg.channel_0,devId=reg.DEVID0)\n",
    "print(hex(result[0]))"
   ]
  },
  {
   "cell_type": "code",
   "execution_count": 19,
   "metadata": {},
   "outputs": [
    {
     "name": "stdout",
     "output_type": "stream",
     "text": [
      "-->reading from reg 0x801c0\n",
      "read is OK 0xf7 @ reg 0x1003\n",
      "-->reading from reg 0x804c0\n",
      "0x1e00\n"
     ]
    }
   ],
   "source": [
    "def read_test():\n",
    "    res = sthv.STHV_RAM_READ(0x1, reg.DEVID0, 0x1003)\n",
    "    if(res[0] != 0xf7):\n",
    "        print(\"error in data reading of STHV1600\", res, type(res[0]))\n",
    "    else:\n",
    "        print(\"read is OK\",hex(res[0]), \"@ reg 0x1003\")\n",
    "        res = sthv.STHV_RAM_READ(amount=1, devId=reg.DEVID0,address=reg.config_1)\n",
    "        print(hex(res[0]))\n",
    "read_test()"
   ]
  },
  {
   "cell_type": "code",
   "execution_count": 13,
   "metadata": {},
   "outputs": [
    {
     "name": "stdout",
     "output_type": "stream",
     "text": [
      "-->reading from reg 0x80440\n",
      "read 0x 0x2\n"
     ]
    }
   ],
   "source": [
    "sthv.all_channels_same_pattern(devId=reg.DEVID0, enable=reg.Channel_sharing.SHARING.value)"
   ]
  },
  {
   "cell_type": "code",
   "execution_count": 14,
   "metadata": {},
   "outputs": [
    {
     "name": "stdout",
     "output_type": "stream",
     "text": [
      "-->reading from reg 0x81440\n"
     ]
    },
    {
     "data": {
      "text/plain": [
       "'0x4000'"
      ]
     },
     "execution_count": 14,
     "metadata": {},
     "output_type": "execute_result"
    }
   ],
   "source": [
    "hex(sthv.read_interrupt(reg.DEVID0)[0])"
   ]
  },
  {
   "cell_type": "code",
   "execution_count": 15,
   "metadata": {},
   "outputs": [],
   "source": [
    "clock_offset_error = 1.5\n",
    "pynq.ps.Clocks.fclk0_mhz=100.0*clock_offset_error"
   ]
  },
  {
   "cell_type": "code",
   "execution_count": 16,
   "metadata": {},
   "outputs": [],
   "source": [
    "clk = pynq.ps.Clocks.fclk0_mhz/clock_offset_error"
   ]
  },
  {
   "cell_type": "code",
   "execution_count": 17,
   "metadata": {},
   "outputs": [
    {
     "ename": "NameError",
     "evalue": "name 'ROW_COLUMN' is not defined",
     "output_type": "error",
     "traceback": [
      "\u001b[0;31m---------------------------------------------------------------------------\u001b[0m",
      "\u001b[0;31mNameError\u001b[0m                                 Traceback (most recent call last)",
      "\u001b[0;32m<ipython-input-17-7d5d351ac654>\u001b[0m in \u001b[0;36m<module>\u001b[0;34m()\u001b[0m\n\u001b[0;32m----> 1\u001b[0;31m \u001b[0mrc\u001b[0m \u001b[0;34m=\u001b[0m \u001b[0mROW_COLUMN\u001b[0m\u001b[0;34m(\u001b[0m\u001b[0;34m)\u001b[0m\u001b[0;34m\u001b[0m\u001b[0m\n\u001b[0m",
      "\u001b[0;31mNameError\u001b[0m: name 'ROW_COLUMN' is not defined"
     ]
    }
   ],
   "source": [
    "rc = ROW_COLUMN()"
   ]
  },
  {
   "cell_type": "code",
   "execution_count": 16,
   "metadata": {},
   "outputs": [
    {
     "name": "stdout",
     "output_type": "stream",
     "text": [
      "{0: {0, 2048, 4114, 4126}, 1: {0, 2304, 4115, 4126}, 2: {0, 2560, 4116, 4127}, 3: {0, 2816, 4117, 4127}, 4: {0, 3072, 4128, 4118}, 5: {0, 3328, 4128, 4119}, 6: {0, 3584, 4120, 4129}, 7: {0, 3840, 4121, 4129}, 8: {2048, 1, 4114, 4126}, 9: {2304, 1, 4115, 4126}, 10: {2560, 1, 4116, 4127}, 11: {2816, 1, 4117, 4127}, 12: {3072, 1, 4128, 4118}, 13: {3328, 1, 4128, 4119}, 14: {3584, 1, 4120, 4129}, 15: {3840, 1, 4121, 4129}}\n"
     ]
    }
   ],
   "source": [
    "rc_channels = rc.channels_read()\n",
    "print(rc_channels)"
   ]
  },
  {
   "cell_type": "code",
   "execution_count": 13,
   "metadata": {},
   "outputs": [],
   "source": [
    "a = rc.channels_drive()"
   ]
  },
  {
   "cell_type": "code",
   "execution_count": 14,
   "metadata": {},
   "outputs": [
    {
     "name": "stdout",
     "output_type": "stream",
     "text": [
      "{0: {0, 4106, 4122}, 1: {0, 256, 4122, 4107}, 2: {0, 512, 4123, 4108}, 3: {0, 768, 4123, 4109}, 4: {0, 1024, 4124, 4110}, 5: {0, 1280, 4124, 4111}, 6: {0, 1536, 4112, 4125}, 7: {0, 1792, 4125, 4113}, 8: {0, 1, 4106, 4122}, 9: {256, 1, 4122, 4107}, 10: {512, 1, 4123, 4108}, 11: {768, 1, 4123, 4109}, 12: {1024, 1, 4124, 4110}, 13: {1280, 1, 4124, 4111}, 14: {1536, 1, 4112, 4125}, 15: {1792, 1, 4125, 4113}}\n"
     ]
    }
   ],
   "source": [
    "print(a)"
   ]
  },
  {
   "cell_type": "code",
   "execution_count": 6,
   "metadata": {},
   "outputs": [
    {
     "name": "stdout",
     "output_type": "stream",
     "text": [
      "Help on package distutils:\n",
      "\n",
      "NAME\n",
      "    distutils - distutils\n",
      "\n",
      "MODULE REFERENCE\n",
      "    https://docs.python.org/3.6/library/distutils\n",
      "    \n",
      "    The following documentation is automatically generated from the Python\n",
      "    source files.  It may be incomplete, incorrect or include features that\n",
      "    are considered implementation detail and may vary between Python\n",
      "    implementations.  When in doubt, consult the module reference at the\n",
      "    location listed above.\n",
      "\n",
      "DESCRIPTION\n",
      "    The main package for the Python Module Distribution Utilities.  Normally\n",
      "    used from a setup script as\n",
      "    \n",
      "       from distutils.core import setup\n",
      "    \n",
      "       setup (...)\n",
      "\n",
      "PACKAGE CONTENTS\n",
      "    _msvccompiler\n",
      "    archive_util\n",
      "    bcppcompiler\n",
      "    ccompiler\n",
      "    cmd\n",
      "    command (package)\n",
      "    config\n",
      "    core\n",
      "    cygwinccompiler\n",
      "    debug\n",
      "    dep_util\n",
      "    dir_util\n",
      "    dist\n",
      "    errors\n",
      "    extension\n",
      "    fancy_getopt\n",
      "    file_util\n",
      "    filelist\n",
      "    log\n",
      "    msvc9compiler\n",
      "    msvccompiler\n",
      "    spawn\n",
      "    sysconfig\n",
      "    text_file\n",
      "    unixccompiler\n",
      "    util\n",
      "    version\n",
      "    versionpredicate\n",
      "\n",
      "VERSION\n",
      "    3.6.5\n",
      "\n",
      "FILE\n",
      "    /usr/lib/python3.6/distutils/__init__.py\n",
      "\n",
      "\n"
     ]
    }
   ],
   "source": [
    "import distutils\n",
    "help(distutils)"
   ]
  },
  {
   "cell_type": "code",
   "execution_count": null,
   "metadata": {},
   "outputs": [],
   "source": []
  }
 ],
 "metadata": {
  "kernelspec": {
   "display_name": "Python 3",
   "language": "python",
   "name": "python3"
  },
  "language_info": {
   "codemirror_mode": {
    "name": "ipython",
    "version": 3
   },
   "file_extension": ".py",
   "mimetype": "text/x-python",
   "name": "python",
   "nbconvert_exporter": "python",
   "pygments_lexer": "ipython3",
   "version": "3.6.5"
  }
 },
 "nbformat": 4,
 "nbformat_minor": 2
}
