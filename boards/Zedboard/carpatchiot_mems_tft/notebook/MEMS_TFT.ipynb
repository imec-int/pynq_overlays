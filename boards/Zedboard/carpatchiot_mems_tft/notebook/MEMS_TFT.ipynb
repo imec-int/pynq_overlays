{
 "cells": [
  {
   "cell_type": "markdown",
   "metadata": {},
   "source": [
    "# MEMS-TFT\n",
    "\n",
    "## Introduction\n",
    "\n",
    "In this notebook we program the MEMS-TFT PCB, which has 1 STHV1600 IC for pulsing and 3 level shifter units for driving the TFT matric"
   ]
  },
  {
   "cell_type": "code",
   "execution_count": 1,
   "metadata": {},
   "outputs": [
    {
     "data": {
      "application/javascript": [
       "\n",
       "try {\n",
       "require(['notebook/js/codecell'], function(codecell) {\n",
       "  codecell.CodeCell.options_default.highlight_modes[\n",
       "      'magic_text/x-csrc'] = {'reg':[/^%%microblaze/]};\n",
       "  Jupyter.notebook.events.one('kernel_ready.Kernel', function(){\n",
       "      Jupyter.notebook.get_cells().map(function(cell){\n",
       "          if (cell.cell_type == 'code'){ cell.auto_highlight(); } }) ;\n",
       "  });\n",
       "});\n",
       "} catch (e) {};\n"
      ]
     },
     "metadata": {},
     "output_type": "display_data"
    }
   ],
   "source": [
    "#import of all libraries\n",
    "import threading\n",
    "import logging\n",
    "import asyncio\n",
    "import numpy as np\n",
    "from pynq import Overlay\n",
    "from pynq.overlays.ip import *\n",
    "from pynq.overlays.ip.STHV1600 import sthv1600_regmap as reg\n",
    "import pynq.interrupt\n",
    "import json"
   ]
  },
  {
   "cell_type": "markdown",
   "metadata": {},
   "source": [
    "we import the bitstream as an overlay"
   ]
  },
  {
   "cell_type": "code",
   "execution_count": 5,
   "metadata": {},
   "outputs": [],
   "source": [
    "# ol = Overlay('/home/xilinx/pynq/overlays/MEMS_TFT/base.bit')\n",
    "ol = Overlay('/usr/local/lib/python3.6/dist-packages/carpatchiot_mems_tft/bitstream/mems_tft.bit')\n",
    "ol?"
   ]
  },
  {
   "cell_type": "code",
   "execution_count": 3,
   "metadata": {},
   "outputs": [
    {
     "name": "stdout",
     "output_type": "stream",
     "text": [
      "connecting TFT\n"
     ]
    }
   ],
   "source": [
    "#sthv is the main point of contact\n",
    "\n",
    "leds = ol.gpio_leds\n",
    "switches = ol.gpio_switches\n",
    "buttons = ol.gpio_buttons\n",
    "axi_intr = ol.axi_intc_0\n",
    "BRAM = ol.axi_bram_ctrl_0\n",
    "\n",
    "sthv = ol.STHV1600_0\n",
    "prg = ol.STHV1600_0.S00_AXI_PRG\n",
    "trg = ol.STHV1600_0.S01_AXI_TRIG\n",
    "intr = ol.STHV1600_0.S_AXI_INTR\n",
    "# sthv?\n",
    "sthv.connect_BRAM(BRAM)\n",
    "TFT= ol.tft_states_0\n",
    "# TFT?\n",
    "sthv.connect_TFT(TFT)"
   ]
  },
  {
   "cell_type": "code",
   "execution_count": 4,
   "metadata": {},
   "outputs": [
    {
     "name": "stdout",
     "output_type": "stream",
     "text": [
      "-->reading from reg 0x801c0\n",
      "error in data reading of STHV1600 0xffff\n",
      "read result:  0xffff\n"
     ]
    }
   ],
   "source": [
    "def read_test():\n",
    "    res = sthv.STHV_RAM_READ(0x1, reg.DEVID0, 0x1003)\n",
    "    if(res[0] != 0xf7):\n",
    "        print(\"error in data reading of STHV1600\", hex(res[0]))\n",
    "    else:\n",
    "        print(\"read is OK\",hex(res[0]), \"@ reg 0x1003\")\n",
    "#     res = sthv.STHV_RAM_READ(amount=1, devId=reg.DEVID0,address=reg.config_1)\n",
    "    print(\"read result: \",hex(res[0]))\n",
    "read_test()"
   ]
  },
  {
   "cell_type": "code",
   "execution_count": 29,
   "metadata": {},
   "outputs": [],
   "source": [
    "sthv.initRAM(devId=reg.DEVID0)"
   ]
  },
  {
   "cell_type": "code",
   "execution_count": 30,
   "metadata": {},
   "outputs": [],
   "source": [
    "pynq.ps.Clocks.fclk0_mhz=150"
   ]
  },
  {
   "cell_type": "code",
   "execution_count": 31,
   "metadata": {},
   "outputs": [],
   "source": [
    "devIdList = [reg.DEVID0]"
   ]
  },
  {
   "cell_type": "markdown",
   "metadata": {},
   "source": [
    "# example use case\n",
    "\n",
    "<code>\n",
    "def example_case(self, devIdList, topology):\n",
    "        volt_states = [reg.Level_State.HVP1.value, reg.Level_State.CLAMP.value,\n",
    "                       reg.Level_State.NOP.value, reg.Level_State.NOP.value]\n",
    "        time_reg_ns = [250, 200, 0, 0] \n",
    "        time_reg_ticks = nanos_to_ticks(time_reg_ns)\n",
    "        print(\"time_reg_ticks\",time_reg_ticks)\n",
    "        amount_of_states = 2\n",
    "        repetitions = 2\n",
    "        delay_table = [10, 220, 30, 140, 250]\n",
    "        for i in devIdList:\n",
    "            self.enableTx(devId=i, onChannels=0xFF)\n",
    "            self.start_delay(devId=i,delay_table_nsec=delay_table)\n",
    "            self.programPulseAllChannels(\n",
    "                i, volt_states, time_reg_ticks, amount_of_states, repetitions)\n",
    "            result = self.STHV_RAM_READ(amount_of_states, i,reg.channel_0)\n",
    "            print(hex(i) for i in result)\n",
    "        if(topology=='MEMS-ONLY'):\n",
    "            txtime = self.calc_tx_time_ticks(time_reg_ticks)\n",
    "            self.STHV_TRIG(txtime, 0x4000, 10)\n",
    "        else:\n",
    "            if(topology=='MEMS-TFT'):\n",
    "                txtime = self.calc_tx_time_ticks(time_reg_ticks)\n",
    "                self.STHV_TRIG(txtime, 0x4000, 10)\n",
    "                self.TFT.init_joint_passive(0x0, 0x0, 0x200, 0x1000, 5) # 0x200=512: 5.25us with 100MHz clock, 0x1000=4096: 41.1us\n",
    "            else:\n",
    "                print(\"wrong topology name, use 'MEMS-TFT' or 'MEMS-ONLY'\")\n",
    "</code>"
   ]
  },
  {
   "cell_type": "code",
   "execution_count": 32,
   "metadata": {},
   "outputs": [
    {
     "name": "stdout",
     "output_type": "stream",
     "text": [
      "time_reg_ticks [25, 20, 0, 0]\n",
      "start delay: [1, 22, 3, 14, 25]\n",
      "amount of pulse regs: 3\n",
      "--> pulse shape registers per channel:  0x4996\n",
      "--> pulse shape registers per channel:  0x14f\n",
      "--> pulse shape registers per channel:  0xe\n",
      "-->reading from reg 0x80440\n",
      "read 0x 0x0\n",
      "MEMS-TFT programming\n",
      "programming STHV1600 trigger in ticks mode 160\n",
      "joint passive TFT initiated\n"
     ]
    }
   ],
   "source": [
    "sthv.example_case(devIdList=devIdList, topology='MEMS-TFT',cycle_amount=5)"
   ]
  },
  {
   "cell_type": "code",
   "execution_count": 17,
   "metadata": {},
   "outputs": [],
   "source": [
    "# sthv.low_power_test(devId=reg.DEVID0)"
   ]
  },
  {
   "cell_type": "code",
   "execution_count": 18,
   "metadata": {},
   "outputs": [
    {
     "name": "stdout",
     "output_type": "stream",
     "text": [
      "programming STHV1600 trigger in ticks mode 512\n"
     ]
    }
   ],
   "source": [
    "sthv.STHV_TRIG(cycle_amount=1,idle_time=0x4000, tx_rxtime=0x200)"
   ]
  },
  {
   "cell_type": "code",
   "execution_count": 19,
   "metadata": {},
   "outputs": [],
   "source": [
    "sthv.STHV_PRG_RAM(devId=reg.DEVID0, address=0x1008, amount=1, data=0x0000)"
   ]
  },
  {
   "cell_type": "code",
   "execution_count": 20,
   "metadata": {},
   "outputs": [
    {
     "name": "stdout",
     "output_type": "stream",
     "text": [
      "joint passive TFT initiated\n"
     ]
    }
   ],
   "source": [
    "TFT.init_joint_passive(data_l=0x0, read_sel_l=0x0, time_sel=0x0001, time_restart=0xffff, cycle_amount=100000)"
   ]
  },
  {
   "cell_type": "code",
   "execution_count": 21,
   "metadata": {},
   "outputs": [],
   "source": [
    "def nanos_to_ticks(data):\n",
    "    clk = pynq.ps.Clocks.fclk0_mhz/reg.clock_offset_error\n",
    "    if(type(data)==list):\n",
    "        data= [int(i/(clk/10)) for i in data]\n",
    "    else:\n",
    "        data = int(data/int(clk/10))\n",
    "    return data"
   ]
  },
  {
   "cell_type": "code",
   "execution_count": 22,
   "metadata": {},
   "outputs": [
    {
     "name": "stdout",
     "output_type": "stream",
     "text": [
      "time_reg_ticks [10, 20]\n",
      "start delay: [1, 2, 3, 4, 5]\n"
     ]
    },
    {
     "ename": "AttributeError",
     "evalue": "Could not find IP or hierarchy programPulseAllChannels in overlay",
     "output_type": "error",
     "traceback": [
      "\u001b[0;31m---------------------------------------------------------------------------\u001b[0m",
      "\u001b[0;31mAttributeError\u001b[0m                            Traceback (most recent call last)",
      "\u001b[0;32m<ipython-input-22-166528c5ee1b>\u001b[0m in \u001b[0;36m<module>\u001b[0;34m()\u001b[0m\n\u001b[1;32m     33\u001b[0m \u001b[0;31m#     else:\u001b[0m\u001b[0;34m\u001b[0m\u001b[0;34m\u001b[0m\u001b[0m\n\u001b[1;32m     34\u001b[0m \u001b[0;31m#         print(\"wrong topology name, use 'MEMS-TFT' or 'MEMS-ONLY'\")\u001b[0m\u001b[0;34m\u001b[0m\u001b[0;34m\u001b[0m\u001b[0m\n\u001b[0;32m---> 35\u001b[0;31m \u001b[0mexample_case\u001b[0m\u001b[0;34m(\u001b[0m\u001b[0mdevIdList\u001b[0m\u001b[0;34m=\u001b[0m\u001b[0mdevIdList\u001b[0m\u001b[0;34m,\u001b[0m \u001b[0mtopology\u001b[0m\u001b[0;34m=\u001b[0m\u001b[0;34m'MEMS-TFT'\u001b[0m\u001b[0;34m)\u001b[0m\u001b[0;34m\u001b[0m\u001b[0m\n\u001b[0m",
      "\u001b[0;32m<ipython-input-22-166528c5ee1b>\u001b[0m in \u001b[0;36mexample_case\u001b[0;34m(devIdList, topology)\u001b[0m\n\u001b[1;32m     14\u001b[0m         \u001b[0msthv\u001b[0m\u001b[0;34m.\u001b[0m\u001b[0menableRx\u001b[0m\u001b[0;34m(\u001b[0m\u001b[0mdevId\u001b[0m\u001b[0;34m=\u001b[0m\u001b[0mi\u001b[0m\u001b[0;34m,\u001b[0m \u001b[0monChannels\u001b[0m\u001b[0;34m=\u001b[0m\u001b[0;36m0xFF\u001b[0m\u001b[0;34m)\u001b[0m\u001b[0;34m\u001b[0m\u001b[0m\n\u001b[1;32m     15\u001b[0m         \u001b[0msthv\u001b[0m\u001b[0;34m.\u001b[0m\u001b[0mstart_delay\u001b[0m\u001b[0;34m(\u001b[0m\u001b[0mdevId\u001b[0m\u001b[0;34m=\u001b[0m\u001b[0mi\u001b[0m\u001b[0;34m,\u001b[0m\u001b[0mdelay_table_nsec\u001b[0m\u001b[0;34m=\u001b[0m\u001b[0mdelay_table\u001b[0m\u001b[0;34m)\u001b[0m\u001b[0;34m\u001b[0m\u001b[0m\n\u001b[0;32m---> 16\u001b[0;31m         sthv.programPulseAllChannels(\n\u001b[0m\u001b[1;32m     17\u001b[0m             i, volt_states, time_reg_ticks, amount_of_states, repetitions)\n\u001b[1;32m     18\u001b[0m         \u001b[0;31m#define start point register\u001b[0m\u001b[0;34m\u001b[0m\u001b[0;34m\u001b[0m\u001b[0m\n",
      "\u001b[0;32m/usr/local/lib/python3.6/dist-packages/pynq/overlay.py\u001b[0m in \u001b[0;36m__getattr__\u001b[0;34m(self, key)\u001b[0m\n\u001b[1;32m    599\u001b[0m         \u001b[0;32melse\u001b[0m\u001b[0;34m:\u001b[0m\u001b[0;34m\u001b[0m\u001b[0m\n\u001b[1;32m    600\u001b[0m             raise AttributeError(\n\u001b[0;32m--> 601\u001b[0;31m                 \"Could not find IP or hierarchy {} in overlay\".format(key))\n\u001b[0m\u001b[1;32m    602\u001b[0m \u001b[0;34m\u001b[0m\u001b[0m\n\u001b[1;32m    603\u001b[0m     \u001b[0;32mdef\u001b[0m \u001b[0m_keys\u001b[0m\u001b[0;34m(\u001b[0m\u001b[0mself\u001b[0m\u001b[0;34m)\u001b[0m\u001b[0;34m:\u001b[0m\u001b[0;34m\u001b[0m\u001b[0m\n",
      "\u001b[0;31mAttributeError\u001b[0m: Could not find IP or hierarchy programPulseAllChannels in overlay"
     ]
    }
   ],
   "source": [
    "pynq.ps.Clocks.fclk0_mhz=150\n",
    "devIdList = [reg.DEVID0]\n",
    "def example_case(devIdList, topology):\n",
    "    volt_states = [reg.Level_State.HVP1.value, reg.Level_State.CLAMP.value,\n",
    "                           reg.Level_State.HVP1.value, reg.Level_State.CLAMP.value]\n",
    "    time_reg_ns = [100, 200]#, 20, 10] \n",
    "    time_reg_ticks = nanos_to_ticks(time_reg_ns)\n",
    "    print(\"time_reg_ticks\",time_reg_ticks)\n",
    "    amount_of_states = 2\n",
    "    repetitions = 4 # becomes 5 repetitions\n",
    "    delay_table = [10, 20, 30, 40,50]\n",
    "    for i in devIdList:\n",
    "        sthv.enableTx(devId=i, onChannels=0xFF)\n",
    "        sthv.enableRx(devId=i, onChannels=0xFF)\n",
    "        sthv.start_delay(devId=i,delay_table_nsec=delay_table)\n",
    "        sthv.programPulseAllChannels(\n",
    "            i, volt_states, time_reg_ticks, amount_of_states, repetitions)\n",
    "        #define start point register\n",
    "        sthv.STHV_PRG_RAM(devId=i, amount=1,address=reg.pointer_channel_1_0,data=0x0000)\n",
    "        result = sthv.STHV_RAM_READ(amount_of_states, i,reg.channel_0)\n",
    "        print(hex(i) for i in result)\n",
    "    txtime = sthv.calc_tx_time_ticks([time_reg_ticks], repetitions+2, delay_table)\n",
    "    sthv.STHV_TRIG(txtime, 0x1000, 10)\n",
    "#     sthv.STHV_TRIG(0x5000, 0x1000, 10)\n",
    "\n",
    "#     if(topology=='MEMS-ONLY'):\n",
    "#         txtime = sthv.calc_tx_time_ticks([time_reg_ticks], delay_table)\n",
    "#         sthv.STHV_TRIG(txtime, 0x1000, 10)\n",
    "#     else:\n",
    "    if(topology=='MEMS-TFT'):\n",
    "\n",
    "        TFT.init_joint_passive(data_l=0xC, read_sel_l=0xC, time_sel=0x200, time_restart=0x100, cycle_amount=3)\n",
    "#     else:\n",
    "#         print(\"wrong topology name, use 'MEMS-TFT' or 'MEMS-ONLY'\")\n",
    "example_case(devIdList=devIdList, topology='MEMS-TFT')"
   ]
  },
  {
   "cell_type": "code",
   "execution_count": 23,
   "metadata": {},
   "outputs": [
    {
     "name": "stdout",
     "output_type": "stream",
     "text": [
      "programming STHV1600 trigger in ticks mode 48\n",
      "joint passive TFT initiated\n",
      "joint passive TFT initiated\n"
     ]
    }
   ],
   "source": [
    "sthv.example_datasheet_21(devId=reg.DEVID0,topology='MEMS-TFT')\n",
    "TFT.init_joint_passive(data_l=0x0, read_sel_l=0x0, time_sel=0x200, time_restart=0x100, cycle_amount=5)"
   ]
  },
  {
   "cell_type": "markdown",
   "metadata": {},
   "source": [
    "### test tft lines\n",
    "a function fixing the data lines in a certain state.\n",
    "\n",
    "A binary '1' means that the line is activated (V+ at the NMOS, so open), a binary '0' means that the line is disactivated (V- at the NMOS so closed)"
   ]
  },
  {
   "cell_type": "code",
   "execution_count": 24,
   "metadata": {},
   "outputs": [
    {
     "name": "stdout",
     "output_type": "stream",
     "text": [
      "testing TFT initiated\n"
     ]
    }
   ],
   "source": [
    "TFT.test_tft_lines(data_l=0xf,drive_sel_l=0x0,read_sel_l=0x0)"
   ]
  },
  {
   "cell_type": "markdown",
   "metadata": {},
   "source": []
  },
  {
   "cell_type": "code",
   "execution_count": 16,
   "metadata": {},
   "outputs": [
    {
     "data": {
      "text/plain": [
       "1"
      ]
     },
     "execution_count": 16,
     "metadata": {},
     "output_type": "execute_result"
    }
   ],
   "source": [
    "TFT.read(0x1c)"
   ]
  },
  {
   "cell_type": "code",
   "execution_count": null,
   "metadata": {},
   "outputs": [],
   "source": []
  },
  {
   "cell_type": "code",
   "execution_count": null,
   "metadata": {},
   "outputs": [],
   "source": []
  }
 ],
 "metadata": {
  "kernelspec": {
   "display_name": "Python 3",
   "language": "python",
   "name": "python3"
  },
  "language_info": {
   "codemirror_mode": {
    "name": "ipython",
    "version": 3
   },
   "file_extension": ".py",
   "mimetype": "text/x-python",
   "name": "python",
   "nbconvert_exporter": "python",
   "pygments_lexer": "ipython3",
   "version": "3.6.5"
  }
 },
 "nbformat": 4,
 "nbformat_minor": 2
}
